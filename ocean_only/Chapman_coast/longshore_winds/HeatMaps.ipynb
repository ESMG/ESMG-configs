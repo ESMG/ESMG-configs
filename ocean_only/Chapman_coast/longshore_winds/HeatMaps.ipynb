{
 "cells": [
  {
   "cell_type": "markdown",
   "metadata": {},
   "source": [
    "# Chapman tests\n",
    "\n",
    "<p>\n",
    "Comparing periodic and open versions of longshore and crossshore winds.\n",
    "</p>\n"
   ]
  },
  {
   "cell_type": "code",
   "execution_count": 1,
   "metadata": {},
   "outputs": [
    {
     "name": "stdout",
     "output_type": "stream",
     "text": [
      "Populating the interactive namespace from numpy and matplotlib\n"
     ]
    }
   ],
   "source": [
    "%pylab inline"
   ]
  },
  {
   "cell_type": "code",
   "execution_count": 2,
   "metadata": {},
   "outputs": [],
   "source": [
    "import netCDF4 as nc\n",
    "import numpy as np\n",
    "import matplotlib.pyplot as plt"
   ]
  },
  {
   "cell_type": "code",
   "execution_count": 3,
   "metadata": {},
   "outputs": [],
   "source": [
    "geom=nc.Dataset('../per_longshore/ocean_geometry.nc')\n",
    "geom_=nc.Dataset('ocean_geometry.nc')\n",
    "\n"
   ]
  },
  {
   "cell_type": "code",
   "execution_count": 4,
   "metadata": {},
   "outputs": [],
   "source": [
    "px=geom.variables['lonq']\n",
    "py=geom.variables['latq']\n",
    "pxc=geom.variables['lonh']\n",
    "pyc=geom.variables['lath']\n",
    "pwet=geom.variables['wet']\n",
    "\n",
    "x=geom_.variables['lonq']\n",
    "y=geom_.variables['latq']\n",
    "xc=geom_.variables['lonh']\n",
    "yc=geom_.variables['lath']\n",
    "wet=geom_.variables['wet']"
   ]
  },
  {
   "cell_type": "code",
   "execution_count": 5,
   "metadata": {},
   "outputs": [],
   "source": [
    "#Return the RMS relative vorticity error (10**-4 s-1)\n",
    "def rvError():\n",
    "    is_=np.where(py>=y[0])[0][0]\n",
    "    ie_=np.where(py>=y[-1])[0][0]\n",
    "    prv_=prv[:,:,is_:ie_+1,:]\n",
    "    diff=1.e3*(v[:]-prv_)\n",
    "    return diff.std()\n"
   ]
  },
  {
   "cell_type": "code",
   "execution_count": 22,
   "metadata": {},
   "outputs": [],
   "source": [
    "Prog=nc.Dataset('../per_longshore/prog.nc')\n",
    "prv=Prog.variables['v']\n",
    "ptime=Prog.variables['time']\n",
    "Fam='0'\n",
    "ERR=np.zeros(16).reshape((4,4))"
   ]
  },
  {
   "cell_type": "code",
   "execution_count": 23,
   "metadata": {},
   "outputs": [],
   "source": [
    "for j in np.arange(4):\n",
    "    for i in np.arange(4):\n",
    "        path=Fam+'.'+str(i)+'.'+str(j)\n",
    "        try:\n",
    "            prog=nc.Dataset(path+'/prog.nc')\n",
    "            v=prog.variables['v']\n",
    "            time=prog.variables['time']\n",
    "            res=rvError()\n",
    "        except:\n",
    "            res=-999.\n",
    "        ERR[i,j]=res\n",
    "        prog.close()"
   ]
  },
  {
   "cell_type": "code",
   "execution_count": 24,
   "metadata": {},
   "outputs": [
    {
     "data": {
      "text/plain": [
       "masked_array(\n",
       "  data=[[0.16700582, 0.16700582, 0.16700582, 0.16700582],\n",
       "        [0.21916729, 0.21916729, 0.21916729, 0.21916729],\n",
       "        [0.16700582, 0.16700582, 0.16700582, 0.16700582],\n",
       "        [1.6205622 , 1.6205622 , 1.6205622 , 1.6205622 ]],\n",
       "  mask=False,\n",
       "  fill_value=1e+20)"
      ]
     },
     "execution_count": 24,
     "metadata": {},
     "output_type": "execute_result"
    }
   ],
   "source": [
    "ERR=np.ma.masked_where(ERR==-999.,ERR)\n",
    "sk=2.0-ERR\n",
    "sk[sk<0.]=0.\n",
    "ERR"
   ]
  },
  {
   "cell_type": "code",
   "execution_count": 25,
   "metadata": {},
   "outputs": [
    {
     "data": {
      "image/png": "[encoded data removed]",
      "text/plain": [
       "<Figure size 432x288 with 1 Axes>"
      ]
     },
     "metadata": {
      "needs_background": "light"
     },
     "output_type": "display_data"
    }
   ],
   "source": [
    "fig,ax = plt.subplots()\n",
    "img=ax.imshow(sk.T,origin='lower',vmin=0.0,vmax=1.0,cmap=plt.cm.viridis)\n",
    "ax.set_xticks(np.arange(-.5,4.5))\n",
    "ax.set_yticks(np.arange(-.5,4.5))\n",
    "ax.set_xticklabels(['F','C','S','Z'])\n",
    "ax.set_yticklabels(['F','C','S','Z'])\n",
    "for j in np.arange(4):\n",
    "    for i in np.arange(4):\n",
    "        if ERR[i,j]:\n",
    "            ax.text(i,j,str(int(sk[i,j]*1e2)*1.e-2)[:4],ha=\"center\",va=\"center\",color=\"w\")\n",
    "plt.setp(ax.get_xticklabels(), rotation=45, ha=\"center\",\n",
    "         rotation_mode=\"anchor\")\n",
    "ax.set_xlabel('Vorticity Mode')\n",
    "ax.set_ylabel('Strain Mode')\n",
    "#plt.colorbar(img)\n",
    "fig.tight_layout()\n",
    "plt.savefig('score.Fam.'+str(Fam)+'.png')"
   ]
  }
 ],
 "metadata": {
  "kernelspec": {
   "display_name": "Python 3",
   "language": "python",
   "name": "python3"
  },
  "language_info": {
   "codemirror_mode": {
    "name": "ipython",
    "version": 3
   },
   "file_extension": ".py",
   "mimetype": "text/x-python",
   "name": "python",
   "nbconvert_exporter": "python",
   "pygments_lexer": "ipython3",
   "version": "3.7.3"
  }
 },
 "nbformat": 4,
 "nbformat_minor": 4
}

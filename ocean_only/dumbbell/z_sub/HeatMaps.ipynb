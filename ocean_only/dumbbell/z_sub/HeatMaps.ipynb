{
 "cells": [
  {
   "cell_type": "markdown",
   "metadata": {},
   "source": [
    "# DUMBBELL\n",
    "\n",
    "<p>\n",
    "Dumbbell is a channel between salty/fresh reservoirs on either\n",
    "end where salinity is being damped towards a +1/-1 PSU target value \n",
    "with a fast damping timescale of 1 day. The equation of state is linear \n",
    "dRho_DS=1.0 kg m-3 PSU-1 , on an f-plane. The first  baroclinic deformation\n",
    "radius is about 15 km and the channel with is 70km. \n",
    "</p>\n"
   ]
  },
  {
   "cell_type": "code",
   "execution_count": 40,
   "metadata": {},
   "outputs": [],
   "source": [
    "import netCDF4 as nc\n",
    "import numpy as np\n",
    "import matplotlib.pyplot as plt"
   ]
  },
  {
   "cell_type": "code",
   "execution_count": 41,
   "metadata": {},
   "outputs": [],
   "source": [
    "geom=nc.Dataset('../z/ocean_geometry.nc')\n",
    "geom_=nc.Dataset('ocean_geometry.nc')\n",
    "\n"
   ]
  },
  {
   "cell_type": "code",
   "execution_count": 42,
   "metadata": {},
   "outputs": [],
   "source": [
    "px=geom.variables['lonq']\n",
    "py=geom.variables['latq']\n",
    "pxc=geom.variables['lonh']\n",
    "pyc=geom.variables['lath']\n",
    "pwet=geom.variables['wet']\n",
    "\n",
    "x=geom_.variables['lonq']\n",
    "y=geom_.variables['latq']\n",
    "xc=geom_.variables['lonh']\n",
    "yc=geom_.variables['lath']\n",
    "wet=geom_.variables['wet']"
   ]
  },
  {
   "cell_type": "code",
   "execution_count": 43,
   "metadata": {},
   "outputs": [],
   "source": [
    "#Return the RMS relative vorticity error (10**-4 s-1)\n",
    "def rvError():\n",
    "    is_=np.where(px>=x[0])[0][0]\n",
    "    ie_=np.where(px>=x[-1])[0][0]\n",
    "    prv_=prv[:,:,:,is_:ie_+1]\n",
    "    diff=1.e4*(rv[:]-prv_)\n",
    "    return diff.std()\n"
   ]
  },
  {
   "cell_type": "code",
   "execution_count": 91,
   "metadata": {},
   "outputs": [],
   "source": [
    "Prog=nc.Dataset('../z/prog.nc')\n",
    "prv=Prog.variables['RV']\n",
    "ptime=Prog.variables['Time']\n",
    "Fam='2'\n",
    "ERR=np.zeros(16).reshape((4,4))"
   ]
  },
  {
   "cell_type": "code",
   "execution_count": 92,
   "metadata": {},
   "outputs": [],
   "source": [
    "for j in np.arange(4):\n",
    "    for i in np.arange(4):\n",
    "        path=Fam+'.'+str(i)+'.'+str(j)\n",
    "        try:\n",
    "            prog=nc.Dataset(path+'/prog.nc')\n",
    "            rv=prog.variables['RV']\n",
    "            time=prog.variables['Time']\n",
    "            res=rvError()\n",
    "        except:\n",
    "            res=-999.\n",
    "        ERR[i,j]=res\n",
    "        prog.close()"
   ]
  },
  {
   "cell_type": "code",
   "execution_count": 94,
   "metadata": {},
   "outputs": [],
   "source": [
    "ERR=np.ma.masked_where(ERR==-999.,ERR)\n",
    "sk=2.0-ERR\n",
    "sk[sk<0.]=0."
   ]
  },
  {
   "cell_type": "code",
   "execution_count": 95,
   "metadata": {},
   "outputs": [
    {
     "data": {
      "image/png": "[encoded data removed]",
      "text/plain": [
       "<Figure size 432x288 with 1 Axes>"
      ]
     },
     "metadata": {
      "needs_background": "light"
     },
     "output_type": "display_data"
    }
   ],
   "source": [
    "fig,ax = plt.subplots()\n",
    "img=ax.imshow(sk.T,origin='lower',vmin=0.0,vmax=1.0,cmap=plt.cm.viridis)\n",
    "ax.set_xticks(np.arange(-.5,4.5))\n",
    "ax.set_yticks(np.arange(-.5,4.5))\n",
    "ax.set_xticklabels(['F','C','S','Z'])\n",
    "ax.set_yticklabels(['F','C','S','Z'])\n",
    "for j in np.arange(4):\n",
    "    for i in np.arange(4):\n",
    "        if ERR[i,j]:\n",
    "            ax.text(i,j,str(int(sk[i,j]*1e2)*1.e-2)[:4],ha=\"center\",va=\"center\",color=\"w\")\n",
    "plt.setp(ax.get_xticklabels(), rotation=45, ha=\"center\",\n",
    "         rotation_mode=\"anchor\")\n",
    "ax.set_xlabel('Vorticity Mode')\n",
    "ax.set_ylabel('Strain Mode')\n",
    "#plt.colorbar(img)\n",
    "fig.tight_layout()\n",
    "plt.savefig('score.Fam.'+str(Fam)+'.png')"
   ]
  },
  {
   "cell_type": "code",
   "execution_count": null,
   "metadata": {},
   "outputs": [],
   "source": []
  }
 ],
 "metadata": {
  "kernelspec": {
   "display_name": "Python 3",
   "language": "python",
   "name": "python3"
  },
  "language_info": {
   "codemirror_mode": {
    "name": "ipython",
    "version": 3
   },
   "file_extension": ".py",
   "mimetype": "text/x-python",
   "name": "python",
   "nbconvert_exporter": "python",
   "pygments_lexer": "ipython3",
   "version": "3.7.4"
  }
 },
 "nbformat": 4,
 "nbformat_minor": 4
}
